{
  "cells": [
    {
      "cell_type": "markdown",
      "metadata": {
        "id": "xo_TBNvXCmxX"
      },
      "source": [
        "# Dataset - import, clean and process"
      ]
    },
    {
      "cell_type": "code",
      "execution_count": 1,
      "metadata": {
        "colab": {
          "base_uri": "https://localhost:8080/"
        },
        "id": "AnOIgQQrCA5D",
        "outputId": "7d1f6ab1-1613-4262-b050-818f3e774f2b"
      },
      "outputs": [
        {
          "name": "stdout",
          "output_type": "stream",
          "text": [
            "     10th   12th        CET  FYFH Result\n",
            "0   94.60  82.80  87.880000            1\n",
            "1   89.80  77.60  96.900000            1\n",
            "2   92.00  87.00  94.000000            1\n",
            "3   87.00  82.00  75.000000            0\n",
            "4   95.70  92.00  90.000000            1\n",
            "5   94.00  88.00  95.457000            1\n",
            "6   84.60  69.00  86.900000            0\n",
            "7   92.60  91.20  97.800000            1\n",
            "8   80.20  64.00  50.000000            0\n",
            "9   92.00  85.00  97.400000            1\n",
            "10  44.80  47.40  13.600000            0\n",
            "11  91.00  70.00  72.000000            1\n",
            "12  90.00  70.00  85.000000            1\n",
            "13  92.00  68.00  89.000000            1\n",
            "14  96.40  79.50  88.530000            1\n",
            "15  94.80  78.50  95.700000            1\n",
            "16  91.00  72.00  91.000000            0\n",
            "17  89.00  77.00  90.130000            1\n",
            "18  43.40  48.00  87.000000            1\n",
            "19  91.80  68.79  84.140000            1\n",
            "20  97.60  89.00  97.340000            1\n",
            "21  91.00  70.00  85.000000            1\n",
            "22  97.00  89.00  94.000000            1\n",
            "23  91.60  83.50  96.620000            1\n",
            "24  88.00  75.00  96.600000            1\n",
            "25  92.00  86.00  97.760000            1\n",
            "26  97.00  78.00  88.400000            0\n",
            "27  95.00  87.00  83.000000            1\n",
            "28  89.00  84.00  94.000000            1\n",
            "29  95.00  89.00  96.700000            0\n",
            "30  97.00  82.00  92.000000            1\n",
            "31  92.00  76.00  88.000000            1\n",
            "32  95.40  90.20  98.130000            1\n",
            "33  82.00  85.00  80.000000            1\n",
            "34  92.00  95.17  96.496300            1\n",
            "35  83.00  63.36  80.790000            0\n",
            "36  85.00  80.00  94.000000            1\n",
            "37  90.08  73.00  95.100000            1\n",
            "38  80.00  70.00  96.490000            0\n",
            "39  83.66  68.67  84.220000            1\n",
            "40  95.20  94.00  94.292900            1\n",
            "41  89.40  75.67  78.147358            1\n",
            "42  86.00  71.17  97.500000            1\n",
            "43  85.40  84.00  93.030000            1\n",
            "44  87.90  65.50  78.800000            0\n",
            "45  97.60  94.60  96.270000            1\n",
            "46  95.00  70.00  93.900000            1\n",
            "47  91.00  78.00  89.000000            1\n",
            "48  93.00  72.00  87.000000            1\n",
            "49  84.00  73.00  79.000000            0\n",
            "50  93.00  82.00  81.000000            1\n",
            "51  87.00  80.00  98.000000            1\n",
            "52  72.00  60.00  82.970000            0\n",
            "53  94.00  84.00  97.270000            1\n",
            "54  83.60  71.30  83.000000            0\n",
            "55  88.00  81.00  77.000000            0\n"
          ]
        }
      ],
      "source": [
        "import pandas as pd\n",
        "import matplotlib.pyplot as plt\n",
        "from sklearn.model_selection import train_test_split\n",
        "from sklearn.preprocessing import StandardScaler, LabelEncoder\n",
        "\n",
        "\n",
        "df = pd.read_csv('S.Y Maths MP 2023-24.csv')\n",
        "\n",
        "m10 = df['10th']\n",
        "m12 = df['12th']\n",
        "mCET = df['CET']\n",
        "\n",
        "\n",
        "# Handling categorical data - converting Pass/Fail to binary\n",
        "label_encoder = LabelEncoder()\n",
        "df['FYFH Result'] = label_encoder.fit_transform(df['FYFH Result'])\n",
        "#Pass-1 and Fail-0\n",
        "\n",
        "sem1 = df['FYFH Result']\n",
        "df.drop('Timestamp',axis=1,inplace=True)\n",
        "print(df)"
      ]
    },
    {
      "cell_type": "code",
      "execution_count": 2,
      "metadata": {
        "colab": {
          "base_uri": "https://localhost:8080/",
          "height": 300
        },
        "id": "HwbvxbCl8f9S",
        "outputId": "321f7c50-d662-46e7-9d41-fc070dde2e63"
      },
      "outputs": [
        {
          "data": {
            "text/html": [
              "<div>\n",
              "<style scoped>\n",
              "    .dataframe tbody tr th:only-of-type {\n",
              "        vertical-align: middle;\n",
              "    }\n",
              "\n",
              "    .dataframe tbody tr th {\n",
              "        vertical-align: top;\n",
              "    }\n",
              "\n",
              "    .dataframe thead th {\n",
              "        text-align: right;\n",
              "    }\n",
              "</style>\n",
              "<table border=\"1\" class=\"dataframe\">\n",
              "  <thead>\n",
              "    <tr style=\"text-align: right;\">\n",
              "      <th></th>\n",
              "      <th>10th</th>\n",
              "      <th>12th</th>\n",
              "      <th>CET</th>\n",
              "      <th>FYFH Result</th>\n",
              "    </tr>\n",
              "  </thead>\n",
              "  <tbody>\n",
              "    <tr>\n",
              "      <th>count</th>\n",
              "      <td>56.000000</td>\n",
              "      <td>56.000000</td>\n",
              "      <td>56.000000</td>\n",
              "      <td>56.000000</td>\n",
              "    </tr>\n",
              "    <tr>\n",
              "      <th>mean</th>\n",
              "      <td>88.609643</td>\n",
              "      <td>77.641607</td>\n",
              "      <td>87.647564</td>\n",
              "      <td>0.750000</td>\n",
              "    </tr>\n",
              "    <tr>\n",
              "      <th>std</th>\n",
              "      <td>10.074819</td>\n",
              "      <td>10.433326</td>\n",
              "      <td>13.333710</td>\n",
              "      <td>0.436931</td>\n",
              "    </tr>\n",
              "    <tr>\n",
              "      <th>min</th>\n",
              "      <td>43.400000</td>\n",
              "      <td>47.400000</td>\n",
              "      <td>13.600000</td>\n",
              "      <td>0.000000</td>\n",
              "    </tr>\n",
              "    <tr>\n",
              "      <th>25%</th>\n",
              "      <td>86.750000</td>\n",
              "      <td>70.000000</td>\n",
              "      <td>83.855000</td>\n",
              "      <td>0.750000</td>\n",
              "    </tr>\n",
              "    <tr>\n",
              "      <th>50%</th>\n",
              "      <td>91.000000</td>\n",
              "      <td>78.250000</td>\n",
              "      <td>90.065000</td>\n",
              "      <td>1.000000</td>\n",
              "    </tr>\n",
              "    <tr>\n",
              "      <th>75%</th>\n",
              "      <td>94.150000</td>\n",
              "      <td>85.000000</td>\n",
              "      <td>96.325000</td>\n",
              "      <td>1.000000</td>\n",
              "    </tr>\n",
              "    <tr>\n",
              "      <th>max</th>\n",
              "      <td>97.600000</td>\n",
              "      <td>95.170000</td>\n",
              "      <td>98.130000</td>\n",
              "      <td>1.000000</td>\n",
              "    </tr>\n",
              "  </tbody>\n",
              "</table>\n",
              "</div>"
            ],
            "text/plain": [
              "            10th       12th        CET  FYFH Result\n",
              "count  56.000000  56.000000  56.000000    56.000000\n",
              "mean   88.609643  77.641607  87.647564     0.750000\n",
              "std    10.074819  10.433326  13.333710     0.436931\n",
              "min    43.400000  47.400000  13.600000     0.000000\n",
              "25%    86.750000  70.000000  83.855000     0.750000\n",
              "50%    91.000000  78.250000  90.065000     1.000000\n",
              "75%    94.150000  85.000000  96.325000     1.000000\n",
              "max    97.600000  95.170000  98.130000     1.000000"
            ]
          },
          "execution_count": 2,
          "metadata": {},
          "output_type": "execute_result"
        }
      ],
      "source": [
        "df.describe()"
      ]
    },
    {
      "cell_type": "markdown",
      "metadata": {
        "id": "xnUMQfh0CyDx"
      },
      "source": [
        "# Data Representation - Bar graph"
      ]
    },
    {
      "cell_type": "code",
      "execution_count": 3,
      "metadata": {
        "colab": {
          "base_uri": "https://localhost:8080/",
          "height": 1000
        },
        "id": "LX9IgLgq7s_d",
        "outputId": "ae03c1fc-5034-4813-de7b-f6cb8dbbf490"
      },
      "outputs": [
        {
          "data": {
            "image/png": "[encoded data removed]",
            "text/plain": [
              "<Figure size 640x480 with 1 Axes>"
            ]
          },
          "metadata": {},
          "output_type": "display_data"
        },
        {
          "data": {
            "image/png": "[encoded data removed]",
            "text/plain": [
              "<Figure size 640x480 with 1 Axes>"
            ]
          },
          "metadata": {},
          "output_type": "display_data"
        },
        {
          "data": {
            "image/png": "[encoded data removed]",
            "text/plain": [
              "<Figure size 640x480 with 1 Axes>"
            ]
          },
          "metadata": {},
          "output_type": "display_data"
        }
      ],
      "source": [
        "# bar\n",
        "pass_indices = [i for i, result in enumerate(sem1) if result == 1]\n",
        "fail_indices = [i for i, result in enumerate(sem1) if result == 0]\n",
        "\n",
        "plt.bar([m10[i] for i in pass_indices], [sem1[i]+1 for i in pass_indices], label=\"Pass\", color='g')\n",
        "plt.bar([m10[i] for i in fail_indices], [sem1[i]+1 for i in fail_indices], label=\"Fail\", color='r')\n",
        "plt.xlabel('10th Board Marks')\n",
        "plt.ylabel('Semester 1 Marks')\n",
        "plt.legend()\n",
        "plt.show()\n",
        "\n",
        "plt.bar([m12[i] for i in pass_indices], [sem1[i]+1 for i in pass_indices], label=\"Pass\", color='g')\n",
        "plt.bar([m12[i] for i in fail_indices], [sem1[i]+1 for i in fail_indices], label=\"Fail\", color='r')\n",
        "plt.xlabel('12th Board Marks')\n",
        "plt.ylabel('Semester 1 Marks')\n",
        "plt.legend()\n",
        "plt.show()\n",
        "\n",
        "plt.bar([mCET[i] for i in pass_indices], [sem1[i]+1 for i in pass_indices], label=\"Pass\", color='g')\n",
        "plt.bar([mCET[i] for i in fail_indices], [sem1[i]+1 for i in fail_indices], label=\"Fail\", color='r')\n",
        "plt.xlabel('CET Marks')\n",
        "plt.ylabel('Semester 1 Marks')\n",
        "plt.legend()\n",
        "plt.show()"
      ]
    },
    {
      "cell_type": "markdown",
      "metadata": {
        "id": "HieIPOjHOC60"
      },
      "source": [
        "# Data Scaling"
      ]
    },
    {
      "cell_type": "code",
      "execution_count": 4,
      "metadata": {
        "colab": {
          "base_uri": "https://localhost:8080/"
        },
        "id": "7gLtaC7I65aO",
        "outputId": "46f75191-ba5c-4eb2-95ce-01397e48e85f"
      },
      "outputs": [
        {
          "name": "stdout",
          "output_type": "stream",
          "text": [
            "X_train [[ 0.3386447   1.57049518  0.56244684]\n",
            " [ 0.79358994  0.37451318  0.2527107 ]\n",
            " [-0.73502608 -1.26008638 -2.64053885]\n",
            " [ 0.06567755 -0.07954226  0.1238922 ]\n",
            " [-0.33467426 -0.80603095 -0.09861246]\n",
            " [ 0.67530418  1.28262404  0.11493691]\n",
            " [ 0.10207317 -0.200321   -0.70155476]\n",
            " [ 0.61161184  0.82856861 -0.36727135]\n",
            " [ 0.24765565  0.01126883  0.04605001]\n",
            " [ 0.61161184 -0.71521986  0.38359579]\n",
            " [-1.48113628 -1.62333072 -0.36933796]\n",
            " [ 0.59341403  0.05667437  0.5075922 ]\n",
            " [ 0.3386447   0.64694643  0.62469992]\n",
            " [ 0.24765565 -0.53359769  0.1838238 ]\n",
            " [-0.0253115  -0.26116443  0.56959041]\n",
            " [ 0.3386447  -0.17035334 -0.02283688]\n",
            " [ 0.52062279  0.55613535  0.61574463]\n",
            " [ 0.42963374 -0.53359769 -0.09172377]\n",
            " [ 0.3386447   0.73775752  0.6494992 ]\n",
            " [ 0.24765565 -0.71521986 -1.12502718]\n",
            " [ 0.64800746  1.11916408  0.67498736]\n",
            " [-0.38926769 -0.4427866  -0.64281892]\n",
            " [ 0.16394572 -0.4427866   0.46626007]\n",
            " [ 0.61161184  1.01019078  0.5764791 ]\n",
            " [ 0.62980965  1.46424621  0.41066145]\n",
            " [ 0.13846879 -0.0250556   0.59025648]\n",
            " [ 0.24765565 -0.71521986 -0.22949756]\n",
            " [ 0.3386447   0.82856861  0.39048448]\n",
            " [-0.26188303  0.55613535  0.3236642 ]\n",
            " [-0.42020397 -0.83599861 -0.28322934]\n",
            " [-0.48025674 -1.31820547 -0.51951138]\n",
            " [ 0.30224908  0.51072981  0.57096815]\n",
            " [ 0.84818337  1.51873286  0.54685773]\n",
            " [-3.9560384  -2.76755041 -5.14802178]\n",
            " [ 0.79358994  1.01019078  0.39048448]\n",
            " [-4.08342307 -2.71306376 -0.09172377]\n",
            " [-0.0253115   0.28370209 -0.78059271]\n",
            " [ 0.84818337  1.01019078  0.62056671]\n",
            " [ 0.39323812  1.20997517  0.65225468]\n",
            " [-0.2072896  -0.60897089  0.63158861]\n",
            " [ 0.73899651  0.14748546  0.01367317]\n",
            " [ 0.06567755  0.55613535  0.39048448]\n",
            " [-0.11630055  0.192891    0.66603206]\n",
            " [-0.75322389 -0.71521986  0.56201285]]\n",
            "X_test [[ 0.57521622  0.44716204 -0.03110331]\n",
            " [ 0.52062279  0.91937969  0.49085269]\n",
            " [-0.57124579  0.64694643 -0.57393203]\n",
            " [ 0.3386447  -0.89684203  0.04605001]\n",
            " [ 0.32044689 -0.82510128 -0.28874029]\n",
            " [ 0.42963374  0.37451318 -0.50504514]\n",
            " [-0.29827864  0.192891    0.39048448]\n",
            " [ 0.79358994  0.01126883  0.00471788]\n",
            " [-0.0344104  -1.12386975 -0.6565963 ]\n",
            " [ 0.1566666  -0.71521986 -0.22949756]\n",
            " [-0.42566331 -0.59716545 -0.36727135]\n",
            " [-0.11630055  0.37451318 -0.9183665 ]]\n",
            "y_train 34    1\n",
            "30    1\n",
            "8     0\n",
            "17    1\n",
            "6     0\n",
            "4     1\n",
            "41    1\n",
            "27    1\n",
            "47    1\n",
            "46    1\n",
            "52    0\n",
            "15    1\n",
            "9     1\n",
            "16    0\n",
            "24    1\n",
            "31    1\n",
            "53    1\n",
            "48    1\n",
            "25    1\n",
            "11    1\n",
            "32    1\n",
            "49    0\n",
            "37    1\n",
            "29    0\n",
            "40    1\n",
            "1     1\n",
            "21    1\n",
            "2     1\n",
            "43    1\n",
            "39    1\n",
            "35    0\n",
            "23    1\n",
            "45    1\n",
            "10    0\n",
            "22    1\n",
            "18    1\n",
            "55    0\n",
            "20    1\n",
            "7     1\n",
            "42    1\n",
            "14    1\n",
            "28    1\n",
            "51    1\n",
            "38    0\n",
            "Name: FYFH Result, dtype: int64\n",
            "y_test 0     1\n",
            "5     1\n",
            "33    1\n",
            "13    1\n",
            "19    1\n",
            "50    1\n",
            "36    1\n",
            "26    0\n",
            "44    0\n",
            "12    1\n",
            "54    0\n",
            "3     0\n",
            "Name: FYFH Result, dtype: int64\n"
          ]
        }
      ],
      "source": [
        "X = df[['10th', '12th', 'CET']]\n",
        "y = df['FYFH Result']\n",
        "\n",
        "X_train, X_test, y_train, y_test = train_test_split(X, y, test_size=0.2, random_state=42)\n",
        "\n",
        "scaler = StandardScaler()\n",
        "X_train_scaled = scaler.fit_transform(X_train)\n",
        "X_test_scaled = scaler.transform(X_test)\n",
        "\n",
        "print(\"X_train\",X_train_scaled)\n",
        "print(\"X_test\",X_test_scaled)\n",
        "print(\"y_train\",y_train)\n",
        "print(\"y_test\",y_test)"
      ]
    },
    {
      "cell_type": "markdown",
      "metadata": {
        "id": "u95UMHPAOKHZ"
      },
      "source": [
        "# Model Training - RandomForest"
      ]
    },
    {
      "cell_type": "code",
      "execution_count": 5,
      "metadata": {
        "colab": {
          "base_uri": "https://localhost:8080/"
        },
        "id": "PvaxJ7-W-__W",
        "outputId": "5b07f9eb-fdab-4027-a08b-e873c3bdea5c"
      },
      "outputs": [
        {
          "name": "stdout",
          "output_type": "stream",
          "text": [
            "Accuracy: 0.8333333333333334\n",
            "\n",
            "Confusion Matrix:\n",
            "[[3 1]\n",
            " [1 7]]\n",
            "\n",
            "Classification Report:\n",
            "              precision    recall  f1-score   support\n",
            "\n",
            "           0       0.75      0.75      0.75         4\n",
            "           1       0.88      0.88      0.88         8\n",
            "\n",
            "    accuracy                           0.83        12\n",
            "   macro avg       0.81      0.81      0.81        12\n",
            "weighted avg       0.83      0.83      0.83        12\n",
            "\n"
          ]
        }
      ],
      "source": [
        "from sklearn.ensemble import RandomForestClassifier\n",
        "from sklearn.metrics import accuracy_score, classification_report, confusion_matrix\n",
        "\n",
        "model = RandomForestClassifier(random_state=42)\n",
        "model.fit(X_train_scaled, y_train)\n",
        "\n",
        "y_pred = model.predict(X_test_scaled)\n",
        "\n",
        "print(\"Accuracy:\", accuracy_score(y_test, y_pred))\n",
        "print(\"\\nConfusion Matrix:\")\n",
        "print(confusion_matrix(y_test, y_pred))\n",
        "print(\"\\nClassification Report:\")\n",
        "print(classification_report(y_test, y_pred))"
      ]
    },
    {
      "cell_type": "markdown",
      "metadata": {
        "id": "8gm7aS-KOT_O"
      },
      "source": [
        "# Model Feedback"
      ]
    },
    {
      "cell_type": "code",
      "execution_count": 6,
      "metadata": {
        "colab": {
          "base_uri": "https://localhost:8080/",
          "height": 489
        },
        "id": "FUmRRobLAmTl",
        "outputId": "befcbc59-ac4a-4321-bc21-65d46812b265"
      },
      "outputs": [
        {
          "name": "stdout",
          "output_type": "stream",
          "text": [
            "[0.36537245 0.29819062 0.33643693]\n"
          ]
        },
        {
          "data": {
            "image/png": "[encoded data removed]",
            "text/plain": [
              "<Figure size 640x480 with 1 Axes>"
            ]
          },
          "metadata": {},
          "output_type": "display_data"
        }
      ],
      "source": [
        "feature_importance = model.feature_importances_\n",
        "print(feature_importance)\n",
        "\n",
        "plt.bar(X.columns, feature_importance)\n",
        "plt.xlabel('Features')\n",
        "plt.ylabel('Importance')\n",
        "plt.title('Feature Importance')\n",
        "plt.show()"
      ]
    },
    {
      "cell_type": "markdown",
      "metadata": {
        "id": "Wg5vVdDvOadc"
      },
      "source": [
        "# Finalization"
      ]
    },
    {
      "cell_type": "code",
      "execution_count": 7,
      "metadata": {
        "colab": {
          "base_uri": "https://localhost:8080/"
        },
        "id": "W8jN3Z9f8YpK",
        "outputId": "393a1db2-1151-4e09-b934-8f5e9f964d8a"
      },
      "outputs": [
        {
          "name": "stdout",
          "output_type": "stream",
          "text": [
            "Predicted Result: Pass\n",
            "With 10th marks 54.0, 12th marks 47.0, and CET marks 98.0,\n",
            "the predicted result for the first year of engineering is: {user_prediction_label}\n"
          ]
        },
        {
          "name": "stderr",
          "output_type": "stream",
          "text": [
            "/home/codespace/.local/lib/python3.10/site-packages/sklearn/base.py:493: UserWarning: X does not have valid feature names, but StandardScaler was fitted with feature names\n",
            "  warnings.warn(\n"
          ]
        }
      ],
      "source": [
        "# Example user input (you can modify this according to your interface)\n",
        "user_10th_marks = float(input(\"Enter 10th-grade marks: \"))\n",
        "user_12th_marks = float(input(\"Enter 12th-grade marks: \"))\n",
        "user_CET_marks = float(input(\"Enter CET marks: \"))\n",
        "\n",
        "\n",
        "# Assuming 'scaler' is the StandardScaler used during training\n",
        "user_input_scaled = scaler.transform([[user_10th_marks, user_12th_marks, user_CET_marks]])\n",
        "\n",
        "\n",
        "user_prediction = model.predict(user_input_scaled)\n",
        "user_prediction_label = label_encoder.inverse_transform(user_prediction)[0]\n",
        "print(\"Predicted Result:\", user_prediction_label)\n",
        "\n",
        "\n",
        "print(f\"With 10th marks {user_10th_marks}, 12th marks {user_12th_marks}, and CET marks {user_CET_marks},\")\n",
        "print(f\"the predicted result for the first year of engineering is: {user_prediction_label}\")"
      ]
    }
  ],
  "metadata": {
    "colab": {
      "provenance": []
    },
    "kernelspec": {
      "display_name": "Python 3",
      "name": "python3"
    },
    "language_info": {
      "codemirror_mode": {
        "name": "ipython",
        "version": 3
      },
      "file_extension": ".py",
      "mimetype": "text/x-python",
      "name": "python",
      "nbconvert_exporter": "python",
      "pygments_lexer": "ipython3",
      "version": "3.10.13"
    }
  },
  "nbformat": 4,
  "nbformat_minor": 0
}
